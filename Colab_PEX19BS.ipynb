{
  "nbformat": 4,
  "nbformat_minor": 0,
  "metadata": {
    "colab": {
      "provenance": [],
      "authorship_tag": "ABX9TyOh8joZ6FFalbevXX1S9l8j",
      "include_colab_link": true
    },
    "kernelspec": {
      "name": "python3",
      "display_name": "Python 3"
    },
    "language_info": {
      "name": "python"
    }
  },
  "cells": [
    {
      "cell_type": "markdown",
      "metadata": {
        "id": "view-in-github",
        "colab_type": "text"
      },
      "source": [
        "<a href=\"https://colab.research.google.com/github/egggbeater/Colab-PEX19BS/blob/main/Colab_PEX19BS.ipynb\" target=\"_parent\"><img src=\"https://colab.research.google.com/assets/colab-badge.svg\" alt=\"Open In Colab\"/></a>"
      ]
    },
    {
      "cell_type": "markdown",
      "source": [
        "# **Colab-PEX19BS**\n",
        "\n",
        "Welcome to the Google Colab Notebook-based tool of the PEX19 binding site prediction calculation from [Rottensteiner et al. 2004](https://pubmed.ncbi.nlm.nih.gov/15133130/). When using this tool, please cite this article.\n",
        "\n",
        "To use Colab-PEX19BS, simply run all the cells in order, following instructions to input data or file name before running the corresponding cell."
      ],
      "metadata": {
        "id": "dK_jgYHPasOS"
      }
    },
    {
      "cell_type": "markdown",
      "source": [
        "**1. Enter your FASTA sequence** and then press the play button on the cell. The sequence should be **at least 15 residues** long. An example sequence is provided (*Trypanosoma brucei* PEX11, UniProt)."
      ],
      "metadata": {
        "id": "i_rD8kOjOlI5"
      }
    },
    {
      "cell_type": "code",
      "source": [
        "# @title FASTA sequence entry {\"display-mode\":\"form\"}\n",
        "fasta_seq = \"MSEFQRFVKLLEQTDGRDKILKAFSGVFKALGSLDTCQSRSSAFGAVGKSIGDARCLLRMAKWVGDVPKMQNAIQDCRAKGKVNMKEVLKFLRVLCNFLYVLGDNVAFVARYNLLALRHKSIHLKAKTAQFWGFFLAAVLDVVALYGALQKRASDPATSKKEMKAALISFVKDASDTLVTMAFVGYLREVWRPSATTSGALTAVAGGVATYLNWNKIK\" # @param {\"type\":\"string\",\"placeholder\":\"Enter FASTA sequence here...\"}\n",
        "\n",
        "fasta_list = [i for i in fasta_seq if i != ' ']\n",
        "\n",
        "non_dna = ['D','E','F','H','I','K','L','M','N','P','Q','R','S','V','W','Y']\n",
        "non_dna_res = 0\n",
        "\n",
        "for i in fasta_list:\n",
        "  if i in non_dna:\n",
        "    non_dna_res += 1\n",
        "\n",
        "if fasta_list == []:\n",
        "  print(\"Error: Invalid sequence format. Please check your input and try again.\")\n",
        "elif len(fasta_list) < 15:\n",
        "  print(\"Error: Sequence too short. Please enter a FASTA sequence of at least 15 residues.\")\n",
        "elif non_dna == 0:\n",
        "  print(\"This appears to be a DNA sequence. Please check your input before proceeding.\")\n",
        "else:\n",
        "  print(\"Sequence: \" + fasta_seq)"
      ],
      "metadata": {
        "colab": {
          "base_uri": "https://localhost:8080/"
        },
        "id": "P2LtowuSOoAR",
        "outputId": "df0054bd-d030-43c6-cae8-26c844bbff11"
      },
      "execution_count": null,
      "outputs": [
        {
          "output_type": "stream",
          "name": "stdout",
          "text": [
            "Sequence: MSEFQRFVKLLEQTDGRDKILKAFSGVFKALGSLDTCQSRSSAFGAVGKSIGDARCLLRMAKWVGDVPKMQNAIQDCRAKGKVNMKEVLKFLRVLCNFLYVLGDNVAFVARYNLLALRHKSIHLKAKTAQFWGFFLAAVLDVVALYGALQKRASDPATSKKEMKAALISFVKDASDTLVTMAFVGYLREVWRPSATTSGALTAVAGGVATYLNWNKIK\n"
          ]
        }
      ]
    },
    {
      "cell_type": "markdown",
      "source": [
        "**2. Initialize parameters and calculate PEX19 binding site scores** (press the play button).\n",
        "\n"
      ],
      "metadata": {
        "id": "krBERw6nG0yv"
      }
    },
    {
      "cell_type": "code",
      "source": [
        "# @title\n",
        "import numpy as np\n",
        "import pandas as pd\n",
        "import matplotlib.pyplot as plt\n",
        "import math\n",
        "from google.colab import files\n",
        "\n",
        "AA_all = 'ACDEFGHIKLMNPQRSTVWY'\n",
        "AA_loc_dict = {}\n",
        "AA_index = 0\n",
        "for AA in AA_all:\n",
        "    AA_loc_dict[AA] = AA_index\n",
        "    AA_index += 1\n",
        "\n",
        "score_table = np.array([\n",
        "    [ 0,0, 1, 2, 3,      4,      5,      6,      7,      8,      9,      10,    11,     12,13,14],\n",
        "    [ 0,0, 0, 0, 0,  0.253, -0.193,  0.437, -0.490,  2.637,  0.187,  0.400,  1.020,  0.231, 0, 0],\n",
        "    [ 1,0, 0, 0, 0,  0.267, -0.628, -1.308,  0.733,  2.429,  0.092,  0.003,  0.833,  0.182, 0, 0],\n",
        "    [ 2,0, 0, 0, 0,  0.265, -1.068, -0.924, -0.510, -1.160, -0.295,  0.029, -0.983, -0.684, 0, 0],\n",
        "    [ 3,0, 0, 0, 0, -0.181, -0.386,  0.064, -0.046, -1.755, -1.857,  0.089, -0.056, -0.490, 0, 0],\n",
        "    [ 4,0, 0, 0, 0,  1.582,  0.992, -0.601,  0.839,  2.072,  0.608,  0.388,  1.184,  0.144, 0, 0],\n",
        "    [ 5,0, 0, 0, 0, -0.980, -0.317, -0.660, -0.762, -1.796, -0.064, -0.585, -0.951, -0.395, 0, 0],\n",
        "    [ 6,0, 0, 0, 0, -0.762,  0.022,  0.490, -0.248, -2.261, -0.114,  0.148,  0.309, -0.263, 0, 0],\n",
        "    [ 7,0, 0, 0, 0,  1.178,  0.686,  0.272,  0.936,  2.870,  0.581,  0.013,  1.102,  0.717, 0, 0],\n",
        "    [ 8,0, 0, 0, 0, -2.758,  0.521,  0.557, -0.642, -2.226,  0.441,  0.271, -1.483, -0.293, 0, 0],\n",
        "    [ 9,0, 0, 0, 0,  1.657,  0.749,  0.185,  1.201,  2.927,  0.693,  0.615,  1.473,  0.900, 0, 0],\n",
        "    [10,0, 0, 0, 0,  0.243,  0.499, -0.221, -0.025, -0.012, -0.179,  0.083, -0.011, -0.497, 0, 0],\n",
        "    [11,0, 0, 0, 0, -0.453, -2.062, -0.521, -0.662, -1.504, -1.218, -1.135, -0.166, -0.283, 0, 0],\n",
        "    [12,0, 0, 0, 0, -1.919, -0.590, -0.246, -3.189, -1.771, -1.176, -0.397, -3.798, -1.060, 0, 0],\n",
        "    [13,0, 0, 0, 0, -0.841,  0.340,  0.066,  0.574, -2.149,  0.259,  0.420,  0.408,  0.922, 0, 0],\n",
        "    [14,0, 0, 0, 0, -0.470,  0.648,  0.695, -0.428, -1.471,  0.263,  0.362,  0.101,  1.011, 0, 0],\n",
        "    [15,0, 0, 0, 0, -0.258, -0.357,  0.822,  0.115, -0.997,  0.179,  0.179,  0.253,  0.099, 0, 0],\n",
        "    [16,0, 0, 0, 0,  1.284,  0.067,  0.290,  0.239, -0.026,  0.174, -0.227,  0.126, -0.091, 0, 0],\n",
        "    [17,0, 0, 0, 0,  0.977,  0.777,  0.184,  1.263,  2.767,  0.778, -0.122,  0.803,  0.695, 0, 0],\n",
        "    [18,0, 0, 0, 0,  0.754,  0.372,  0.426,  0.802,  0.976,  0.612,  0.113,  1.154, -0.304, 0, 0],\n",
        "    [19,0, 0, 0, 0,  0.163, -0.072, -0.005,  0.299,  0.448,  0.035, -0.647,  1.317, -0.541, 0, 0]\n",
        "])\n",
        "\n",
        "scorer = pd.DataFrame(data=score_table[1:,1:], index=score_table[1:,0])\n",
        "\n",
        "total_iters = len(fasta_list) - 14\n",
        "\n",
        "all_scores = []\n",
        "all_seqs = []\n",
        "x = []\n",
        "for i in range(total_iters):\n",
        "    peptide = fasta_list[i:i+15]\n",
        "    peptide_clean = ''.join(peptide)\n",
        "    all_seqs.append(peptide_clean)\n",
        "    x.append(i+1)\n",
        "    peptide_score = 0\n",
        "    peptide_dex = 0\n",
        "    for AA in peptide:\n",
        "        if AA not in AA_loc_dict:\n",
        "            continue\n",
        "        AA_decoded = AA_loc_dict[AA]\n",
        "        score_ind = scorer.iloc[AA_decoded,peptide_dex]\n",
        "        peptide_score += score_ind\n",
        "        peptide_dex += 1\n",
        "    score_adj = math.exp(peptide_score)\n",
        "    all_scores.append(score_adj)\n",
        "\n",
        "scores_seqs = list(zip(x,all_seqs,all_scores))\n",
        "df_score_seq = pd.DataFrame(scores_seqs, columns=['Starting Residue','Sequence', 'PEX19BS score'])\n",
        "df_sort = df_score_seq.sort_values(by='PEX19BS score', ascending=False)\n",
        "\n",
        "plt.plot(x, all_scores, color='green')\n",
        "plt.xlabel('Starting Residue')\n",
        "plt.ylabel('PEX19BS Score')\n",
        "plt.show()\n",
        "\n",
        "max_all = max(all_scores)\n",
        "max_index = all_scores.index(max_all)\n",
        "max_res = all_seqs[max_index]\n",
        "\n",
        "print(\"The maximum score was {0} with peptide {1}\".format(max_all, max_res))\n",
        "print(\"Top \" + str(10) + \" PEX19BS scores: \")\n",
        "print(df_sort[:10].to_string(index=False))"
      ],
      "metadata": {
        "colab": {
          "base_uri": "https://localhost:8080/",
          "height": 675
        },
        "cellView": "form",
        "id": "Hjyv1SJEGwyk",
        "outputId": "8446443a-4f37-45c7-ffce-9aba1272046c"
      },
      "execution_count": null,
      "outputs": [
        {
          "output_type": "display_data",
          "data": {
            "text/plain": [
              "<Figure size 640x480 with 1 Axes>"
            ],
            "image/png": "[encoded data removed]"
          },
          "metadata": {}
        },
        {
          "output_type": "stream",
          "name": "stdout",
          "text": [
            "The maximum score was 4272.694766395488 with peptide MKAALISFVKDASDT\n",
            "Top 10 PEX19BS scores: \n",
            " Starting Residue        Sequence  PEX19BS score\n",
            "              163 MKAALISFVKDASDT    4272.694766\n",
            "               81 GKVNMKEVLKFLRVL    4150.566044\n",
            "               87 EVLKFLRVLCNFLYV    3854.513198\n",
            "               84 NMKEVLKFLRVLCNF    2552.937664\n",
            "              176 DTLVTMAFVGYLREV    1996.198698\n",
            "              131 FWGFFLAAVLDVVAL    1429.385628\n",
            "              127 KTAQFWGFFLAAVLD    1110.982458\n",
            "               94 VLCNFLYVLGDNVAF    1107.654505\n",
            "               19 KILKAFSGVFKALGS     963.911996\n",
            "              106 VAFVARYNLLALRHK     843.871304\n"
          ]
        }
      ]
    },
    {
      "cell_type": "markdown",
      "source": [
        "**3.** (Optional) **Export and download all PEX19 binding site scores as .csv** by entering file name and pressing play button."
      ],
      "metadata": {
        "id": "t7mGGPksR89_"
      }
    },
    {
      "cell_type": "code",
      "source": [
        "file_name = \"PEX19BS_scores\" # @param {\"type\":\"string\",\"placeholder\":\"Enter .csv file name here:\"}\n",
        "df_score_seq.to_csv('{0}.csv'.format(file_name), index=False)\n",
        "\n",
        "print(\"File exported to csv.\")\n",
        "\n",
        "file_download = file_name + \".csv\"\n",
        "\n",
        "files.download(file_download)"
      ],
      "metadata": {
        "colab": {
          "base_uri": "https://localhost:8080/",
          "height": 34
        },
        "cellView": "form",
        "id": "c-x-hz99R__o",
        "outputId": "ed26924c-bae9-4914-e5b7-b8bd96dad90e"
      },
      "execution_count": null,
      "outputs": [
        {
          "output_type": "stream",
          "name": "stdout",
          "text": [
            "File exported to csv.\n"
          ]
        },
        {
          "output_type": "display_data",
          "data": {
            "text/plain": [
              "<IPython.core.display.Javascript object>"
            ],
            "application/javascript": [
              "\n",
              "    async function download(id, filename, size) {\n",
              "      if (!google.colab.kernel.accessAllowed) {\n",
              "        return;\n",
              "      }\n",
              "      const div = document.createElement('div');\n",
              "      const label = document.createElement('label');\n",
              "      label.textContent = `Downloading \"${filename}\": `;\n",
              "      div.appendChild(label);\n",
              "      const progress = document.createElement('progress');\n",
              "      progress.max = size;\n",
              "      div.appendChild(progress);\n",
              "      document.body.appendChild(div);\n",
              "\n",
              "      const buffers = [];\n",
              "      let downloaded = 0;\n",
              "\n",
              "      const channel = await google.colab.kernel.comms.open(id);\n",
              "      // Send a message to notify the kernel that we're ready.\n",
              "      channel.send({})\n",
              "\n",
              "      for await (const message of channel.messages) {\n",
              "        // Send a message to notify the kernel that we're ready.\n",
              "        channel.send({})\n",
              "        if (message.buffers) {\n",
              "          for (const buffer of message.buffers) {\n",
              "            buffers.push(buffer);\n",
              "            downloaded += buffer.byteLength;\n",
              "            progress.value = downloaded;\n",
              "          }\n",
              "        }\n",
              "      }\n",
              "      const blob = new Blob(buffers, {type: 'application/binary'});\n",
              "      const a = document.createElement('a');\n",
              "      a.href = window.URL.createObjectURL(blob);\n",
              "      a.download = filename;\n",
              "      div.appendChild(a);\n",
              "      a.click();\n",
              "      div.remove();\n",
              "    }\n",
              "  "
            ]
          },
          "metadata": {}
        },
        {
          "output_type": "display_data",
          "data": {
            "text/plain": [
              "<IPython.core.display.Javascript object>"
            ],
            "application/javascript": [
              "download(\"download_71df4caa-1b2b-4aab-a683-48f3aa047f70\", \"PEX19BS_scores.csv\", 7869)"
            ]
          },
          "metadata": {}
        }
      ]
    }
  ]
}