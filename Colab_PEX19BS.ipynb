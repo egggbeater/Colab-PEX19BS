{
  "nbformat": 4,
  "nbformat_minor": 0,
  "metadata": {
    "colab": {
      "provenance": [],
      "authorship_tag": "ABX9TyPj80Pf8gX50FJ9JBLwR3L3",
      "include_colab_link": true
    },
    "kernelspec": {
      "name": "python3",
      "display_name": "Python 3"
    },
    "language_info": {
      "name": "python"
    }
  },
  "cells": [
    {
      "cell_type": "markdown",
      "metadata": {
        "id": "view-in-github",
        "colab_type": "text"
      },
      "source": [
        "<a href=\"https://colab.research.google.com/github/egggbeater/Colab-PEX19BS/blob/main/Colab_PEX19BS.ipynb\" target=\"_parent\"><img src=\"https://colab.research.google.com/assets/colab-badge.svg\" alt=\"Open In Colab\"/></a>"
      ]
    },
    {
      "cell_type": "markdown",
      "source": [
        "# **Colab-PEX19BS**\n",
        "\n",
        "Welcome to the Google Colab Notebook-based tool of the PEX19 binding site prediction calculation from [Rottensteiner et al. 2004](https://pubmed.ncbi.nlm.nih.gov/15133130/). When using this tool, please cite this article.\n",
        "\n",
        "To use Colab-PEX19BS, simply run all the cells in order, following instructions to input data or file name before running the corresponding cell."
      ],
      "metadata": {
        "id": "dK_jgYHPasOS"
      }
    },
    {
      "cell_type": "markdown",
      "source": [
        "**1. Enter your protein FASTA sequence** and then press the play button on the cell. The sequence should be **at least 15 residues** long. An example sequence is provided (*Trypanosoma brucei* PEX11, UniProt)."
      ],
      "metadata": {
        "id": "i_rD8kOjOlI5"
      }
    },
    {
      "cell_type": "code",
      "source": [
        "# @title FASTA sequence entry {\"display-mode\":\"form\"}\n",
        "fasta_seq = \"MSEFQRFVKLLEQTDGRDKILKAFSGVFKALGSLDTCQSRSSAFGAVGKSIGDARCLLRMAKWVGDVPKMQNAIQDCRAKGKVNMKEVLKFLRVLCNFLYVLGDNVAFVARYNLLALRHKSIHLKAKTAQFWGFFLAAVLDVVALYGALQKRASDPATSKKEMKAALISFVKDASDTLVTMAFVGYLREVWRPSATTSGALTAVAGGVATYLNWNKIK\" # @param {\"type\":\"string\",\"placeholder\":\"Enter FASTA sequence here...\"}\n",
        "fasta_seq = fasta_seq.upper()\n",
        "\n",
        "fasta_list = [i for i in fasta_seq if i != ' ']\n",
        "\n",
        "non_dna = ['E','F','I','L','P','Q']\n",
        "non_dna_res = 0\n",
        "\n",
        "AA_all = 'ACDEFGHIKLMNPQRSTVWY'\n",
        "AA_loc_dict = {}\n",
        "AA_index = 0\n",
        "for AA in AA_all:\n",
        "    AA_loc_dict[AA] = AA_index\n",
        "    AA_index += 1\n",
        "\n",
        "fasta_seq_clean = \"\"\n",
        "fasta_list_clean = []\n",
        "\n",
        "non_AA = False\n",
        "for i in fasta_list:\n",
        "  if i not in AA_all:\n",
        "    non_AA = True\n",
        "  else:\n",
        "    fasta_seq_clean = fasta_seq_clean + i\n",
        "    fasta_list_clean.append(i)\n",
        "  if i in non_dna:\n",
        "    non_dna_res += 1\n",
        "\n",
        "if non_dna_res == 0:\n",
        "  print(\"This appears to be a DNA sequence. Please check your input before proceeding.\")\n",
        "\n",
        "if non_AA == True:\n",
        "  print(\"There are one or more non-amino acid characters in your sequence which were removed. Please check your input before proceeding.\")\n",
        "\n",
        "if fasta_list == []:\n",
        "  print(\"Error: Invalid sequence format. Please check your input and try again.\")\n",
        "elif len(fasta_list_clean) < 15:\n",
        "  print(\"Error: Sequence too short. Please enter a FASTA sequence of at least 15 residues.\")\n",
        "else:\n",
        "  print(\"Sequence: \" + fasta_seq_clean)"
      ],
      "metadata": {
        "id": "P2LtowuSOoAR",
        "colab": {
          "base_uri": "https://localhost:8080/"
        },
        "outputId": "cd83997f-12cb-4fde-c9bf-d6d13b6806bc"
      },
      "execution_count": 25,
      "outputs": [
        {
          "output_type": "stream",
          "name": "stdout",
          "text": [
            "There are one or more non-amino acid characters in your sequence which were removed. Please check your input before proceeding.\n",
            "Sequence: THEQICKRWNFMPSVERTHELAYDG\n"
          ]
        }
      ]
    },
    {
      "cell_type": "markdown",
      "source": [
        "**2. Calculate PEX19 binding site scores** (press the play button).\n",
        "\n"
      ],
      "metadata": {
        "id": "krBERw6nG0yv"
      }
    },
    {
      "cell_type": "code",
      "source": [
        "# @title\n",
        "import numpy as np\n",
        "import pandas as pd\n",
        "import matplotlib.pyplot as plt\n",
        "import math\n",
        "from google.colab import files\n",
        "\n",
        "score_table = np.array([\n",
        "    [ 0,0, 1, 2, 3,      4,      5,      6,      7,      8,      9,      10,    11,     12,13,14],\n",
        "    [ 0,0, 0, 0, 0,  0.253, -0.193,  0.437, -0.490,  2.637,  0.187,  0.400,  1.020,  0.231, 0, 0],\n",
        "    [ 1,0, 0, 0, 0,  0.267, -0.628, -1.308,  0.733,  2.429,  0.092,  0.003,  0.833,  0.182, 0, 0],\n",
        "    [ 2,0, 0, 0, 0,  0.265, -1.068, -0.924, -0.510, -1.160, -0.295,  0.029, -0.983, -0.684, 0, 0],\n",
        "    [ 3,0, 0, 0, 0, -0.181, -0.386,  0.064, -0.046, -1.755, -1.857,  0.089, -0.056, -0.490, 0, 0],\n",
        "    [ 4,0, 0, 0, 0,  1.582,  0.992, -0.601,  0.839,  2.072,  0.608,  0.388,  1.184,  0.144, 0, 0],\n",
        "    [ 5,0, 0, 0, 0, -0.980, -0.317, -0.660, -0.762, -1.796, -0.064, -0.585, -0.951, -0.395, 0, 0],\n",
        "    [ 6,0, 0, 0, 0, -0.762,  0.022,  0.490, -0.248, -2.261, -0.114,  0.148,  0.309, -0.263, 0, 0],\n",
        "    [ 7,0, 0, 0, 0,  1.178,  0.686,  0.272,  0.936,  2.870,  0.581,  0.013,  1.102,  0.717, 0, 0],\n",
        "    [ 8,0, 0, 0, 0, -2.758,  0.521,  0.557, -0.642, -2.226,  0.441,  0.271, -1.483, -0.293, 0, 0],\n",
        "    [ 9,0, 0, 0, 0,  1.657,  0.749,  0.185,  1.201,  2.927,  0.693,  0.615,  1.473,  0.900, 0, 0],\n",
        "    [10,0, 0, 0, 0,  0.243,  0.499, -0.221, -0.025, -0.012, -0.179,  0.083, -0.011, -0.497, 0, 0],\n",
        "    [11,0, 0, 0, 0, -0.453, -2.062, -0.521, -0.662, -1.504, -1.218, -1.135, -0.166, -0.283, 0, 0],\n",
        "    [12,0, 0, 0, 0, -1.919, -0.590, -0.246, -3.189, -1.771, -1.176, -0.397, -3.798, -1.060, 0, 0],\n",
        "    [13,0, 0, 0, 0, -0.841,  0.340,  0.066,  0.574, -2.149,  0.259,  0.420,  0.408,  0.922, 0, 0],\n",
        "    [14,0, 0, 0, 0, -0.470,  0.648,  0.695, -0.428, -1.471,  0.263,  0.362,  0.101,  1.011, 0, 0],\n",
        "    [15,0, 0, 0, 0, -0.258, -0.357,  0.822,  0.115, -0.997,  0.179,  0.179,  0.253,  0.099, 0, 0],\n",
        "    [16,0, 0, 0, 0,  1.284,  0.067,  0.290,  0.239, -0.026,  0.174, -0.227,  0.126, -0.091, 0, 0],\n",
        "    [17,0, 0, 0, 0,  0.977,  0.777,  0.184,  1.263,  2.767,  0.778, -0.122,  0.803,  0.695, 0, 0],\n",
        "    [18,0, 0, 0, 0,  0.754,  0.372,  0.426,  0.802,  0.976,  0.612,  0.113,  1.154, -0.304, 0, 0],\n",
        "    [19,0, 0, 0, 0,  0.163, -0.072, -0.005,  0.299,  0.448,  0.035, -0.647,  1.317, -0.541, 0, 0]\n",
        "])\n",
        "\n",
        "scorer = pd.DataFrame(data=score_table[1:,1:], index=score_table[1:,0])\n",
        "\n",
        "total_iters = len(fasta_list_clean) - 14\n",
        "\n",
        "all_scores = []\n",
        "all_seqs = []\n",
        "x = []\n",
        "for i in range(total_iters):\n",
        "    peptide = fasta_list_clean[i:i+15]\n",
        "    peptide_clean = ''.join(peptide)\n",
        "    all_seqs.append(peptide_clean)\n",
        "    x.append(i+1)\n",
        "    peptide_score = 0\n",
        "    peptide_dex = 0\n",
        "    for AA in peptide:\n",
        "        if AA not in AA_loc_dict:\n",
        "            continue\n",
        "        AA_decoded = AA_loc_dict[AA]\n",
        "        score_ind = scorer.iloc[AA_decoded,peptide_dex]\n",
        "        peptide_score += score_ind\n",
        "        peptide_dex += 1\n",
        "    score_adj = math.exp(peptide_score)\n",
        "    score_adj = round(score_adj,3)\n",
        "    all_scores.append(score_adj)\n",
        "\n",
        "scores_seqs = list(zip(x,all_seqs,all_scores))\n",
        "df_score_seq = pd.DataFrame(scores_seqs, columns=['Starting Residue','Sequence', 'PEX19BS score'])\n",
        "df_sort = df_score_seq.sort_values(by='PEX19BS score', ascending=False)\n",
        "\n",
        "plt.plot(x, all_scores, color='green')\n",
        "plt.xlabel('Starting Residue')\n",
        "plt.ylabel('PEX19BS Score')\n",
        "plt.show()\n",
        "\n",
        "max_all = max(all_scores)\n",
        "max_index = all_scores.index(max_all)\n",
        "max_res = all_seqs[max_index]\n",
        "\n",
        "print(\"The maximum score was {0} with peptide {1}\".format(max_all, max_res))\n",
        "print(\"Top \" + str(10) + \" PEX19BS scores: \")\n",
        "print(df_sort[:10].to_string(index=False))"
      ],
      "metadata": {
        "id": "Hjyv1SJEGwyk",
        "colab": {
          "base_uri": "https://localhost:8080/",
          "height": 675
        },
        "cellView": "form",
        "outputId": "9376ff1a-5c36-4898-8f59-7f51c2df9d36"
      },
      "execution_count": 26,
      "outputs": [
        {
          "output_type": "display_data",
          "data": {
            "text/plain": [
              "<Figure size 640x480 with 1 Axes>"
            ],
            "image/png": "[encoded data removed]"
          },
          "metadata": {}
        },
        {
          "output_type": "stream",
          "name": "stdout",
          "text": [
            "The maximum score was 21.867 with peptide KRWNFMPSVERTHEL\n",
            "Top 10 PEX19BS scores: \n",
            " Starting Residue        Sequence  PEX19BS score\n",
            "                7 KRWNFMPSVERTHEL         21.867\n",
            "               10 NFMPSVERTHELAYD          6.098\n",
            "                3 EQICKRWNFMPSVER          1.103\n",
            "                8 RWNFMPSVERTHELA          0.850\n",
            "                1 THEQICKRWNFMPSV          0.782\n",
            "                4 QICKRWNFMPSVERT          0.621\n",
            "               11 FMPSVERTHELAYDG          0.223\n",
            "                2 HEQICKRWNFMPSVE          0.108\n",
            "                9 WNFMPSVERTHELAY          0.087\n",
            "                5 ICKRWNFMPSVERTH          0.068\n"
          ]
        }
      ]
    },
    {
      "cell_type": "markdown",
      "source": [
        "**3.** (Optional) **Export and download all PEX19 binding site scores as .csv** by entering file name and pressing play button."
      ],
      "metadata": {
        "id": "t7mGGPksR89_"
      }
    },
    {
      "cell_type": "code",
      "source": [
        "file_name = \"PEX19BS_scores\" # @param {\"type\":\"string\",\"placeholder\":\"Enter .csv file name here:\"}\n",
        "df_score_seq.to_csv('{0}.csv'.format(file_name), index=False)\n",
        "\n",
        "print(\"File exported to csv.\")\n",
        "\n",
        "file_download = file_name + \".csv\"\n",
        "\n",
        "files.download(file_download)"
      ],
      "metadata": {
        "cellView": "form",
        "id": "c-x-hz99R__o"
      },
      "execution_count": null,
      "outputs": []
    }
  ]
}